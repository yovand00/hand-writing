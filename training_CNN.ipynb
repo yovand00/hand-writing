{
 "cells": [
  {
   "cell_type": "code",
   "execution_count": 19,
   "metadata": {},
   "outputs": [],
   "source": [
    "from tensorflow.keras.models import Sequential\n",
    "from tensorflow.keras.preprocessing.image import ImageDataGenerator\n",
    "from tensorflow.keras.layers import Dense, Conv2D, Dropout, MaxPooling2D, Flatten\n",
    "from tensorflow.keras.callbacks import EarlyStopping\n",
    "import numpy as np\n",
    "import cv2 "
   ]
  },
  {
   "cell_type": "markdown",
   "id": "d9c58043",
   "metadata": {},
   "source": [
    "## Import and Splitting Data"
   ]
  },
  {
   "cell_type": "code",
   "execution_count": 7,
   "id": "928ce835",
   "metadata": {},
   "outputs": [
    {
     "name": "stdout",
     "output_type": "stream",
     "text": [
      "Found 6343 images belonging to 9 classes.\n",
      "Found 1266 images belonging to 9 classes.\n"
     ]
    }
   ],
   "source": [
    "data_dir = \"data_kaggle/\"\n",
    "img_size = (224, 224)\n",
    "batch_size = 32\n",
    "\n",
    "datagen_train = ImageDataGenerator(\n",
    "    rescale= 1./255, \n",
    "    zoom_range=0.2, \n",
    "    validation_split=0.2)\n",
    "\n",
    "train_generator = datagen_train.flow_from_directory(\n",
    "    data_dir, \n",
    "    target_size = img_size, \n",
    "    batch_size = batch_size, \n",
    "    class_mode = \"categorical\")\n",
    "    \n",
    "valid_generator = datagen_train.flow_from_directory(\n",
    "    data_dir, \n",
    "    target_size = img_size, \n",
    "    batch_size = batch_size, \n",
    "    class_mode = \"categorical\", \n",
    "    subset= \"validation\")\n"
   ]
  },
  {
   "cell_type": "markdown",
   "id": "de9c91da",
   "metadata": {},
   "source": [
    "## Building Model"
   ]
  },
  {
   "cell_type": "code",
   "execution_count": 13,
   "id": "d5c7bd60",
   "metadata": {},
   "outputs": [
    {
     "name": "stdout",
     "output_type": "stream",
     "text": [
      "Model: \"sequential_1\"\n",
      "_________________________________________________________________\n",
      " Layer (type)                Output Shape              Param #   \n",
      "=================================================================\n",
      " conv2d_3 (Conv2D)           (None, 222, 222, 32)      896       \n",
      "                                                                 \n",
      " max_pooling2d_3 (MaxPooling  (None, 74, 74, 32)       0         \n",
      " 2D)                                                             \n",
      "                                                                 \n",
      " conv2d_4 (Conv2D)           (None, 72, 72, 32)        9248      \n",
      "                                                                 \n",
      " max_pooling2d_4 (MaxPooling  (None, 24, 24, 32)       0         \n",
      " 2D)                                                             \n",
      "                                                                 \n",
      " conv2d_5 (Conv2D)           (None, 22, 22, 16)        4624      \n",
      "                                                                 \n",
      " max_pooling2d_5 (MaxPooling  (None, 7, 7, 16)         0         \n",
      " 2D)                                                             \n",
      "                                                                 \n",
      " flatten_1 (Flatten)         (None, 784)               0         \n",
      "                                                                 \n",
      " dense_3 (Dense)             (None, 64)                50240     \n",
      "                                                                 \n",
      " dense_4 (Dense)             (None, 32)                2080      \n",
      "                                                                 \n",
      " dense_5 (Dense)             (None, 9)                 297       \n",
      "                                                                 \n",
      "=================================================================\n",
      "Total params: 67,385\n",
      "Trainable params: 67,385\n",
      "Non-trainable params: 0\n",
      "_________________________________________________________________\n"
     ]
    }
   ],
   "source": [
    "model = Sequential()\n",
    "model.add(Conv2D(32, (3, 3), input_shape = (224, 224, 3), activation = 'relu'))\n",
    "model.add(MaxPooling2D(3))\n",
    "model.add(Conv2D(32, (3, 3), activation = 'relu'))\n",
    "model.add(MaxPooling2D(3))\n",
    "model.add(Conv2D(16, (3, 3), activation = 'relu'))\n",
    "model.add(MaxPooling2D(3))\n",
    "model.add(Flatten())\n",
    "model.add(Dense(64, activation = 'relu'))\n",
    "model.add(Dense(32, activation = 'relu'))\n",
    "model.add(Dense(9, activation = 'softmax'))\n",
    "model.summary()"
   ]
  },
  {
   "cell_type": "code",
   "execution_count": 22,
   "id": "5acc1612",
   "metadata": {},
   "outputs": [
    {
     "name": "stderr",
     "output_type": "stream",
     "text": [
      "C:\\Users\\HP\\AppData\\Local\\Temp\\ipykernel_11896\\1499873888.py:15: UserWarning: `Model.fit_generator` is deprecated and will be removed in a future version. Please use `Model.fit`, which supports generators.\n",
      "  model.fit_generator(\n"
     ]
    },
    {
     "name": "stdout",
     "output_type": "stream",
     "text": [
      "Epoch 1/30\n",
      "199/198 [==============================] - ETA: 0s - loss: 0.0181 - accuracy: 0.9814"
     ]
    },
    {
     "ename": "UFuncTypeError",
     "evalue": "ufunc 'less' did not contain a loop with signature matching types (<class 'numpy.dtype[float64]'>, <class 'numpy.dtype[str_]'>) -> None",
     "output_type": "error",
     "traceback": [
      "\u001b[1;31m---------------------------------------------------------------------------\u001b[0m",
      "\u001b[1;31mUFuncTypeError\u001b[0m                            Traceback (most recent call last)",
      "\u001b[1;32mc:\\Users\\HP\\projects\\hand-writing-local\\training_CNN.ipynb Cell 6'\u001b[0m in \u001b[0;36m<cell line: 15>\u001b[1;34m()\u001b[0m\n\u001b[0;32m      <a href='vscode-notebook-cell:/c%3A/Users/HP/projects/hand-writing-local/training_CNN.ipynb#ch0000007?line=0'>1</a>\u001b[0m callback \u001b[39m=\u001b[39m EarlyStopping(\n\u001b[0;32m      <a href='vscode-notebook-cell:/c%3A/Users/HP/projects/hand-writing-local/training_CNN.ipynb#ch0000007?line=1'>2</a>\u001b[0m     monitor\u001b[39m=\u001b[39m\u001b[39m'\u001b[39m\u001b[39mval_loss\u001b[39m\u001b[39m'\u001b[39m,\n\u001b[0;32m      <a href='vscode-notebook-cell:/c%3A/Users/HP/projects/hand-writing-local/training_CNN.ipynb#ch0000007?line=2'>3</a>\u001b[0m     min_delta\u001b[39m=\u001b[39m\u001b[39m0\u001b[39m,\n\u001b[1;32m   (...)\u001b[0m\n\u001b[0;32m      <a href='vscode-notebook-cell:/c%3A/Users/HP/projects/hand-writing-local/training_CNN.ipynb#ch0000007?line=6'>7</a>\u001b[0m     restore_best_weights\u001b[39m=\u001b[39m\u001b[39mFalse\u001b[39;00m\n\u001b[0;32m      <a href='vscode-notebook-cell:/c%3A/Users/HP/projects/hand-writing-local/training_CNN.ipynb#ch0000007?line=7'>8</a>\u001b[0m )\n\u001b[0;32m     <a href='vscode-notebook-cell:/c%3A/Users/HP/projects/hand-writing-local/training_CNN.ipynb#ch0000007?line=9'>10</a>\u001b[0m model\u001b[39m.\u001b[39mcompile(\n\u001b[0;32m     <a href='vscode-notebook-cell:/c%3A/Users/HP/projects/hand-writing-local/training_CNN.ipynb#ch0000007?line=10'>11</a>\u001b[0m     optimizer\u001b[39m=\u001b[39m\u001b[39m'\u001b[39m\u001b[39madam\u001b[39m\u001b[39m'\u001b[39m, \n\u001b[0;32m     <a href='vscode-notebook-cell:/c%3A/Users/HP/projects/hand-writing-local/training_CNN.ipynb#ch0000007?line=11'>12</a>\u001b[0m     metrics\u001b[39m=\u001b[39m[\u001b[39m'\u001b[39m\u001b[39maccuracy\u001b[39m\u001b[39m'\u001b[39m], \n\u001b[0;32m     <a href='vscode-notebook-cell:/c%3A/Users/HP/projects/hand-writing-local/training_CNN.ipynb#ch0000007?line=12'>13</a>\u001b[0m     loss\u001b[39m=\u001b[39m\u001b[39m'\u001b[39m\u001b[39mbinary_crossentropy\u001b[39m\u001b[39m'\u001b[39m)\n\u001b[1;32m---> <a href='vscode-notebook-cell:/c%3A/Users/HP/projects/hand-writing-local/training_CNN.ipynb#ch0000007?line=14'>15</a>\u001b[0m model\u001b[39m.\u001b[39;49mfit_generator(\n\u001b[0;32m     <a href='vscode-notebook-cell:/c%3A/Users/HP/projects/hand-writing-local/training_CNN.ipynb#ch0000007?line=15'>16</a>\u001b[0m     train_generator, \n\u001b[0;32m     <a href='vscode-notebook-cell:/c%3A/Users/HP/projects/hand-writing-local/training_CNN.ipynb#ch0000007?line=16'>17</a>\u001b[0m     steps_per_epoch\u001b[39m=\u001b[39;49m\u001b[39m6343\u001b[39;49m\u001b[39m/\u001b[39;49mbatch_size, \n\u001b[0;32m     <a href='vscode-notebook-cell:/c%3A/Users/HP/projects/hand-writing-local/training_CNN.ipynb#ch0000007?line=17'>18</a>\u001b[0m     validation_data\u001b[39m=\u001b[39;49mvalid_generator, \n\u001b[0;32m     <a href='vscode-notebook-cell:/c%3A/Users/HP/projects/hand-writing-local/training_CNN.ipynb#ch0000007?line=18'>19</a>\u001b[0m     validation_steps\u001b[39m=\u001b[39;49m\u001b[39m1266\u001b[39;49m\u001b[39m/\u001b[39;49mbatch_size, \n\u001b[0;32m     <a href='vscode-notebook-cell:/c%3A/Users/HP/projects/hand-writing-local/training_CNN.ipynb#ch0000007?line=19'>20</a>\u001b[0m     epochs\u001b[39m=\u001b[39;49m\u001b[39m30\u001b[39;49m,\n\u001b[0;32m     <a href='vscode-notebook-cell:/c%3A/Users/HP/projects/hand-writing-local/training_CNN.ipynb#ch0000007?line=20'>21</a>\u001b[0m     callbacks\u001b[39m=\u001b[39;49m[callback])\n",
      "File \u001b[1;32mc:\\Users\\HP\\anaconda3\\envs\\preschool\\lib\\site-packages\\keras\\engine\\training.py:2209\u001b[0m, in \u001b[0;36mModel.fit_generator\u001b[1;34m(self, generator, steps_per_epoch, epochs, verbose, callbacks, validation_data, validation_steps, validation_freq, class_weight, max_queue_size, workers, use_multiprocessing, shuffle, initial_epoch)\u001b[0m\n\u001b[0;32m   <a href='file:///c%3A/Users/HP/anaconda3/envs/preschool/lib/site-packages/keras/engine/training.py?line=2197'>2198</a>\u001b[0m \u001b[39m\"\"\"Fits the model on data yielded batch-by-batch by a Python generator.\u001b[39;00m\n\u001b[0;32m   <a href='file:///c%3A/Users/HP/anaconda3/envs/preschool/lib/site-packages/keras/engine/training.py?line=2198'>2199</a>\u001b[0m \n\u001b[0;32m   <a href='file:///c%3A/Users/HP/anaconda3/envs/preschool/lib/site-packages/keras/engine/training.py?line=2199'>2200</a>\u001b[0m \u001b[39mDEPRECATED:\u001b[39;00m\n\u001b[0;32m   <a href='file:///c%3A/Users/HP/anaconda3/envs/preschool/lib/site-packages/keras/engine/training.py?line=2200'>2201</a>\u001b[0m \u001b[39m  `Model.fit` now supports generators, so there is no longer any need to use\u001b[39;00m\n\u001b[0;32m   <a href='file:///c%3A/Users/HP/anaconda3/envs/preschool/lib/site-packages/keras/engine/training.py?line=2201'>2202</a>\u001b[0m \u001b[39m  this endpoint.\u001b[39;00m\n\u001b[0;32m   <a href='file:///c%3A/Users/HP/anaconda3/envs/preschool/lib/site-packages/keras/engine/training.py?line=2202'>2203</a>\u001b[0m \u001b[39m\"\"\"\u001b[39;00m\n\u001b[0;32m   <a href='file:///c%3A/Users/HP/anaconda3/envs/preschool/lib/site-packages/keras/engine/training.py?line=2203'>2204</a>\u001b[0m warnings\u001b[39m.\u001b[39mwarn(\n\u001b[0;32m   <a href='file:///c%3A/Users/HP/anaconda3/envs/preschool/lib/site-packages/keras/engine/training.py?line=2204'>2205</a>\u001b[0m     \u001b[39m'\u001b[39m\u001b[39m`Model.fit_generator` is deprecated and \u001b[39m\u001b[39m'\u001b[39m\n\u001b[0;32m   <a href='file:///c%3A/Users/HP/anaconda3/envs/preschool/lib/site-packages/keras/engine/training.py?line=2205'>2206</a>\u001b[0m     \u001b[39m'\u001b[39m\u001b[39mwill be removed in a future version. \u001b[39m\u001b[39m'\u001b[39m\n\u001b[0;32m   <a href='file:///c%3A/Users/HP/anaconda3/envs/preschool/lib/site-packages/keras/engine/training.py?line=2206'>2207</a>\u001b[0m     \u001b[39m'\u001b[39m\u001b[39mPlease use `Model.fit`, which supports generators.\u001b[39m\u001b[39m'\u001b[39m,\n\u001b[0;32m   <a href='file:///c%3A/Users/HP/anaconda3/envs/preschool/lib/site-packages/keras/engine/training.py?line=2207'>2208</a>\u001b[0m     stacklevel\u001b[39m=\u001b[39m\u001b[39m2\u001b[39m)\n\u001b[1;32m-> <a href='file:///c%3A/Users/HP/anaconda3/envs/preschool/lib/site-packages/keras/engine/training.py?line=2208'>2209</a>\u001b[0m \u001b[39mreturn\u001b[39;00m \u001b[39mself\u001b[39;49m\u001b[39m.\u001b[39;49mfit(\n\u001b[0;32m   <a href='file:///c%3A/Users/HP/anaconda3/envs/preschool/lib/site-packages/keras/engine/training.py?line=2209'>2210</a>\u001b[0m     generator,\n\u001b[0;32m   <a href='file:///c%3A/Users/HP/anaconda3/envs/preschool/lib/site-packages/keras/engine/training.py?line=2210'>2211</a>\u001b[0m     steps_per_epoch\u001b[39m=\u001b[39;49msteps_per_epoch,\n\u001b[0;32m   <a href='file:///c%3A/Users/HP/anaconda3/envs/preschool/lib/site-packages/keras/engine/training.py?line=2211'>2212</a>\u001b[0m     epochs\u001b[39m=\u001b[39;49mepochs,\n\u001b[0;32m   <a href='file:///c%3A/Users/HP/anaconda3/envs/preschool/lib/site-packages/keras/engine/training.py?line=2212'>2213</a>\u001b[0m     verbose\u001b[39m=\u001b[39;49mverbose,\n\u001b[0;32m   <a href='file:///c%3A/Users/HP/anaconda3/envs/preschool/lib/site-packages/keras/engine/training.py?line=2213'>2214</a>\u001b[0m     callbacks\u001b[39m=\u001b[39;49mcallbacks,\n\u001b[0;32m   <a href='file:///c%3A/Users/HP/anaconda3/envs/preschool/lib/site-packages/keras/engine/training.py?line=2214'>2215</a>\u001b[0m     validation_data\u001b[39m=\u001b[39;49mvalidation_data,\n\u001b[0;32m   <a href='file:///c%3A/Users/HP/anaconda3/envs/preschool/lib/site-packages/keras/engine/training.py?line=2215'>2216</a>\u001b[0m     validation_steps\u001b[39m=\u001b[39;49mvalidation_steps,\n\u001b[0;32m   <a href='file:///c%3A/Users/HP/anaconda3/envs/preschool/lib/site-packages/keras/engine/training.py?line=2216'>2217</a>\u001b[0m     validation_freq\u001b[39m=\u001b[39;49mvalidation_freq,\n\u001b[0;32m   <a href='file:///c%3A/Users/HP/anaconda3/envs/preschool/lib/site-packages/keras/engine/training.py?line=2217'>2218</a>\u001b[0m     class_weight\u001b[39m=\u001b[39;49mclass_weight,\n\u001b[0;32m   <a href='file:///c%3A/Users/HP/anaconda3/envs/preschool/lib/site-packages/keras/engine/training.py?line=2218'>2219</a>\u001b[0m     max_queue_size\u001b[39m=\u001b[39;49mmax_queue_size,\n\u001b[0;32m   <a href='file:///c%3A/Users/HP/anaconda3/envs/preschool/lib/site-packages/keras/engine/training.py?line=2219'>2220</a>\u001b[0m     workers\u001b[39m=\u001b[39;49mworkers,\n\u001b[0;32m   <a href='file:///c%3A/Users/HP/anaconda3/envs/preschool/lib/site-packages/keras/engine/training.py?line=2220'>2221</a>\u001b[0m     use_multiprocessing\u001b[39m=\u001b[39;49muse_multiprocessing,\n\u001b[0;32m   <a href='file:///c%3A/Users/HP/anaconda3/envs/preschool/lib/site-packages/keras/engine/training.py?line=2221'>2222</a>\u001b[0m     shuffle\u001b[39m=\u001b[39;49mshuffle,\n\u001b[0;32m   <a href='file:///c%3A/Users/HP/anaconda3/envs/preschool/lib/site-packages/keras/engine/training.py?line=2222'>2223</a>\u001b[0m     initial_epoch\u001b[39m=\u001b[39;49minitial_epoch)\n",
      "File \u001b[1;32mc:\\Users\\HP\\anaconda3\\envs\\preschool\\lib\\site-packages\\keras\\utils\\traceback_utils.py:67\u001b[0m, in \u001b[0;36mfilter_traceback.<locals>.error_handler\u001b[1;34m(*args, **kwargs)\u001b[0m\n\u001b[0;32m     <a href='file:///c%3A/Users/HP/anaconda3/envs/preschool/lib/site-packages/keras/utils/traceback_utils.py?line=64'>65</a>\u001b[0m \u001b[39mexcept\u001b[39;00m \u001b[39mException\u001b[39;00m \u001b[39mas\u001b[39;00m e:  \u001b[39m# pylint: disable=broad-except\u001b[39;00m\n\u001b[0;32m     <a href='file:///c%3A/Users/HP/anaconda3/envs/preschool/lib/site-packages/keras/utils/traceback_utils.py?line=65'>66</a>\u001b[0m   filtered_tb \u001b[39m=\u001b[39m _process_traceback_frames(e\u001b[39m.\u001b[39m__traceback__)\n\u001b[1;32m---> <a href='file:///c%3A/Users/HP/anaconda3/envs/preschool/lib/site-packages/keras/utils/traceback_utils.py?line=66'>67</a>\u001b[0m   \u001b[39mraise\u001b[39;00m e\u001b[39m.\u001b[39mwith_traceback(filtered_tb) \u001b[39mfrom\u001b[39;00m \u001b[39mNone\u001b[39m\n\u001b[0;32m     <a href='file:///c%3A/Users/HP/anaconda3/envs/preschool/lib/site-packages/keras/utils/traceback_utils.py?line=67'>68</a>\u001b[0m \u001b[39mfinally\u001b[39;00m:\n\u001b[0;32m     <a href='file:///c%3A/Users/HP/anaconda3/envs/preschool/lib/site-packages/keras/utils/traceback_utils.py?line=68'>69</a>\u001b[0m   \u001b[39mdel\u001b[39;00m filtered_tb\n",
      "File \u001b[1;32mc:\\Users\\HP\\anaconda3\\envs\\preschool\\lib\\site-packages\\keras\\callbacks.py:1891\u001b[0m, in \u001b[0;36mEarlyStopping._is_improvement\u001b[1;34m(self, monitor_value, reference_value)\u001b[0m\n\u001b[0;32m   <a href='file:///c%3A/Users/HP/anaconda3/envs/preschool/lib/site-packages/keras/callbacks.py?line=1889'>1890</a>\u001b[0m \u001b[39mdef\u001b[39;00m \u001b[39m_is_improvement\u001b[39m(\u001b[39mself\u001b[39m, monitor_value, reference_value):\n\u001b[1;32m-> <a href='file:///c%3A/Users/HP/anaconda3/envs/preschool/lib/site-packages/keras/callbacks.py?line=1890'>1891</a>\u001b[0m   \u001b[39mreturn\u001b[39;00m \u001b[39mself\u001b[39;49m\u001b[39m.\u001b[39;49mmonitor_op(monitor_value \u001b[39m-\u001b[39;49m \u001b[39mself\u001b[39;49m\u001b[39m.\u001b[39;49mmin_delta, reference_value)\n",
      "\u001b[1;31mUFuncTypeError\u001b[0m: ufunc 'less' did not contain a loop with signature matching types (<class 'numpy.dtype[float64]'>, <class 'numpy.dtype[str_]'>) -> None"
     ]
    }
   ],
   "source": [
    "callback = EarlyStopping(\n",
    "    monitor='val_loss',\n",
    "    min_delta=0,\n",
    "    patience=0,\n",
    "    verbose=0,\n",
    "    mode='auto',\n",
    "    baseline='none',\n",
    "    restore_best_weights=False)\n",
    "\n",
    "model.compile(\n",
    "    optimizer='adam', \n",
    "    metrics=['accuracy'], \n",
    "    loss='binary_crossentropy')\n",
    "\n",
    "model.fit_generator(\n",
    "    train_generator, \n",
    "    steps_per_epoch=6343/batch_size, \n",
    "    validation_data=valid_generator, \n",
    "    validation_steps=1266/batch_size, \n",
    "    epochs=30,\n",
    "    callbacks=[callback])"
   ]
  },
  {
   "cell_type": "code",
   "execution_count": null,
   "id": "741bf610",
   "metadata": {},
   "outputs": [],
   "source": []
  }
 ],
 "metadata": {
  "interpreter": {
   "hash": "137073de05bac0d0bbb3f8c6b5e8fe7f3bb5f3eb1c75f3b20c0670ab9317ae6b"
  },
  "kernelspec": {
   "display_name": "Python 3.9.0 ('preschool')",
   "language": "python",
   "name": "python3"
  },
  "language_info": {
   "codemirror_mode": {
    "name": "ipython",
    "version": 3
   },
   "file_extension": ".py",
   "mimetype": "text/x-python",
   "name": "python",
   "nbconvert_exporter": "python",
   "pygments_lexer": "ipython3",
   "version": "3.9.0"
  }
 },
 "nbformat": 4,
 "nbformat_minor": 5
}
