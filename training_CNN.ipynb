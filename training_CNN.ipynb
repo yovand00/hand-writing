{
 "cells": [
  {
   "cell_type": "code",
   "execution_count": 19,
   "metadata": {},
   "outputs": [],
   "source": [
    "from tensorflow.keras.models import Sequential\n",
    "from tensorflow.keras.preprocessing.image import ImageDataGenerator\n",
    "from tensorflow.keras.layers import Dense, Conv2D, Dropout, MaxPooling2D, Flatten\n",
    "from tensorflow.keras.callbacks import EarlyStopping\n",
    "import numpy as np\n",
    "import cv2 "
   ]
  },
  {
   "cell_type": "markdown",
   "id": "d9c58043",
   "metadata": {},
   "source": [
    "## Import and Splitting Data"
   ]
  },
  {
   "cell_type": "code",
   "execution_count": 7,
   "id": "928ce835",
   "metadata": {},
   "outputs": [
    {
     "name": "stdout",
     "output_type": "stream",
     "text": [
      "Found 6343 images belonging to 9 classes.\n",
      "Found 1266 images belonging to 9 classes.\n"
     ]
    }
   ],
   "source": [
    "data_dir = \"data_kaggle/\"\n",
    "img_size = (224, 224)\n",
    "batch_size = 32\n",
    "\n",
    "datagen_train = ImageDataGenerator(\n",
    "    rescale= 1./255, \n",
    "    zoom_range=0.2, \n",
    "    validation_split=0.2)\n",
    "\n",
    "train_generator = datagen_train.flow_from_directory(\n",
    "    data_dir, \n",
    "    target_size = img_size, \n",
    "    batch_size = batch_size, \n",
    "    class_mode = \"categorical\")\n",
    "    \n",
    "valid_generator = datagen_train.flow_from_directory(\n",
    "    data_dir, \n",
    "    target_size = img_size, \n",
    "    batch_size = batch_size, \n",
    "    class_mode = \"categorical\", \n",
    "    subset= \"validation\")\n"
   ]
  },
  {
   "cell_type": "markdown",
   "id": "de9c91da",
   "metadata": {},
   "source": [
    "## Building Model"
   ]
  },
  {
   "cell_type": "code",
   "execution_count": 13,
   "id": "d5c7bd60",
   "metadata": {},
   "outputs": [
    {
     "name": "stdout",
     "output_type": "stream",
     "text": [
      "Model: \"sequential_1\"\n",
      "_________________________________________________________________\n",
      " Layer (type)                Output Shape              Param #   \n",
      "=================================================================\n",
      " conv2d_3 (Conv2D)           (None, 222, 222, 32)      896       \n",
      "                                                                 \n",
      " max_pooling2d_3 (MaxPooling  (None, 74, 74, 32)       0         \n",
      " 2D)                                                             \n",
      "                                                                 \n",
      " conv2d_4 (Conv2D)           (None, 72, 72, 32)        9248      \n",
      "                                                                 \n",
      " max_pooling2d_4 (MaxPooling  (None, 24, 24, 32)       0         \n",
      " 2D)                                                             \n",
      "                                                                 \n",
      " conv2d_5 (Conv2D)           (None, 22, 22, 16)        4624      \n",
      "                                                                 \n",
      " max_pooling2d_5 (MaxPooling  (None, 7, 7, 16)         0         \n",
      " 2D)                                                             \n",
      "                                                                 \n",
      " flatten_1 (Flatten)         (None, 784)               0         \n",
      "                                                                 \n",
      " dense_3 (Dense)             (None, 64)                50240     \n",
      "                                                                 \n",
      " dense_4 (Dense)             (None, 32)                2080      \n",
      "                                                                 \n",
      " dense_5 (Dense)             (None, 9)                 297       \n",
      "                                                                 \n",
      "=================================================================\n",
      "Total params: 67,385\n",
      "Trainable params: 67,385\n",
      "Non-trainable params: 0\n",
      "_________________________________________________________________\n"
     ]
    }
   ],
   "source": [
    "model = Sequential()\n",
    "model.add(Conv2D(32, (3, 3), input_shape = (224, 224, 3), activation = 'relu'))\n",
    "model.add(MaxPooling2D(3))\n",
    "model.add(Conv2D(32, (3, 3), activation = 'relu'))\n",
    "model.add(MaxPooling2D(3))\n",
    "model.add(Conv2D(16, (3, 3), activation = 'relu'))\n",
    "model.add(MaxPooling2D(3))\n",
    "model.add(Flatten())\n",
    "model.add(Dense(64, activation = 'relu'))\n",
    "model.add(Dense(32, activation = 'relu'))\n",
    "model.add(Dense(9, activation = 'softmax'))\n",
    "model.summary()"
   ]
  },
  {
   "cell_type": "code",
   "execution_count": null,
   "id": "5acc1612",
   "metadata": {},
   "outputs": [],
   "source": [
    "# callback = EarlyStopping(\n",
    "#     monitor='val_loss',\n",
    "#     min_delta=0,\n",
    "#     patience=0,\n",
    "#     verbose=0,\n",
    "#     mode='auto',\n",
    "#     baseline='none',\n",
    "#     restore_best_weights=False)\n",
    "\n",
    "model.compile(\n",
    "    optimizer='adam', \n",
    "    metrics=['accuracy'], \n",
    "    loss='binary_crossentropy')\n",
    "\n",
    "model.fit_generator(\n",
    "    train_generator, \n",
    "    steps_per_epoch=6343/batch_size, \n",
    "    validation_data=valid_generator, \n",
    "    validation_steps=1266/batch_size, \n",
    "    epochs=30\n",
    "    )"
   ]
  },
  {
   "cell_type": "code",
   "execution_count": null,
   "id": "741bf610",
   "metadata": {},
   "outputs": [],
   "source": []
  }
 ],
 "metadata": {
  "interpreter": {
   "hash": "137073de05bac0d0bbb3f8c6b5e8fe7f3bb5f3eb1c75f3b20c0670ab9317ae6b"
  },
  "kernelspec": {
   "display_name": "Python 3.9.0 ('preschool')",
   "language": "python",
   "name": "python3"
  },
  "language_info": {
   "codemirror_mode": {
    "name": "ipython",
    "version": 3
   },
   "file_extension": ".py",
   "mimetype": "text/x-python",
   "name": "python",
   "nbconvert_exporter": "python",
   "pygments_lexer": "ipython3",
   "version": "3.9.0"
  }
 },
 "nbformat": 4,
 "nbformat_minor": 5
}
